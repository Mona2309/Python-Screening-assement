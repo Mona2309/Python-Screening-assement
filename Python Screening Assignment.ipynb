{
 "cells": [
  {
   "cell_type": "markdown",
   "id": "347f5e60",
   "metadata": {},
   "source": [
    "# Create a function in python to read the text file and replace specific content of the file."
   ]
  },
  {
   "cell_type": "code",
   "execution_count": 55,
   "id": "6e3251bb",
   "metadata": {},
   "outputs": [],
   "source": [
    "f = open(\"example.txt\", 'w')\n",
    "f.write (\"hello!! This is a placement assignment in Python\")   \n",
    "f.close()"
   ]
  },
  {
   "cell_type": "code",
   "execution_count": 21,
   "id": "f6da2e49",
   "metadata": {},
   "outputs": [
    {
     "data": {
      "text/plain": [
       "'hello!! This is a placement assignment in Python'"
      ]
     },
     "execution_count": 21,
     "metadata": {},
     "output_type": "execute_result"
    }
   ],
   "source": [
    "f = open (\"example.txt\") \n",
    "f.read()"
   ]
  },
  {
   "cell_type": "code",
   "execution_count": 57,
   "id": "c89a6153",
   "metadata": {},
   "outputs": [],
   "source": [
    "# Read in the file\n",
    "with open('example.txt', 'r') as file :\n",
    "    filedata = file.read()\n",
    "\n",
    "# Replace the target string\n",
    "filedata = filedata.replace('placement', 'screening')\n",
    "\n",
    "# Write the file out again\n",
    "with open('example.txt', 'w') as file:\n",
    "    file.write(filedata)\n",
    "    \n",
    "    "
   ]
  },
  {
   "cell_type": "code",
   "execution_count": 58,
   "id": "ae5bf78f",
   "metadata": {},
   "outputs": [
    {
     "data": {
      "text/plain": [
       "'hello!! This is a screening assignment in Python'"
      ]
     },
     "execution_count": 58,
     "metadata": {},
     "output_type": "execute_result"
    }
   ],
   "source": [
    "f = open (\"example.txt\") \n",
    "f.read()"
   ]
  },
  {
   "cell_type": "markdown",
   "id": "0e24f205",
   "metadata": {},
   "source": [
    "# Here the Abstract class is Shape which contains one concrete method called common and two abstract methods called area and perimeter. \n",
    "# There are two child Classes Square and Rectangle that inherit the abstract class Shape and implement the abstract method."
   ]
  },
  {
   "cell_type": "code",
   "execution_count": 7,
   "id": "8081e00c",
   "metadata": {},
   "outputs": [
    {
     "name": "stdout",
     "output_type": "stream",
     "text": [
      "This is a concrete method\n",
      "None\n",
      "16\n",
      "16\n",
      "This is a concrete method\n",
      "None\n",
      "8\n",
      "12\n"
     ]
    }
   ],
   "source": [
    "from abc import ABC, abstractmethod\n",
    "class Shape(ABC):\n",
    "    def common(self):\n",
    "        print(\"This is a concrete method\")\n",
    "    @abstractmethod # decorator\n",
    "    def area(self):\n",
    "        pass\n",
    "    @abstractmethod\n",
    "    def perimeter(self):\n",
    "        pass\n",
    "class Square(Shape):\n",
    "    def __init__(self,side):\n",
    "        self.__side=side        \n",
    "    def area(self):\n",
    "        return self.__side*self.__side    \n",
    "    def perimeter(self):\n",
    "        return 4*self.__side       \n",
    "\n",
    "class Rectangle(Shape):\n",
    "    def __init__(self,length,breath):\n",
    "        self.__length=length\n",
    "class Rectangle(Shape):\n",
    "    def __init__(self,length,breath):\n",
    "        self.__length=length\n",
    "        self.__breath=breath        \n",
    "    def area(self):\n",
    "        return self.__length*self.__breath    \n",
    "    def perimeter(self):\n",
    "        return 2*(self.__length+self.__breath)\n",
    "S1=Square(4)\n",
    "print(S1.common())\n",
    "print(S1.area())\n",
    "print(S1.perimeter())\n",
    "R1=Rectangle(2,4)\n",
    "print(R1.common())\n",
    "print(R1.area())\n",
    "print(R1.perimeter())"
   ]
  },
  {
   "cell_type": "code",
   "execution_count": 8,
   "id": "bd534b14",
   "metadata": {},
   "outputs": [
    {
     "name": "stdout",
     "output_type": "stream",
     "text": [
      "True\n",
      "True\n"
     ]
    }
   ],
   "source": [
    "import abc  \n",
    "class Shape:        \n",
    "    def area(self): \n",
    "        pass  \n",
    "class Square(Shape): \n",
    "    def area(self): \n",
    "        print(\"Square is a child class\")    \n",
    "print( issubclass(Square,Shape)) \n",
    "print( isinstance(Square(), Shape))"
   ]
  },
  {
   "cell_type": "code",
   "execution_count": 9,
   "id": "335ca29c",
   "metadata": {},
   "outputs": [],
   "source": [
    "#multiple inheritance"
   ]
  },
  {
   "cell_type": "code",
   "execution_count": 12,
   "id": "e0e4661f",
   "metadata": {},
   "outputs": [
    {
     "name": "stdout",
     "output_type": "stream",
     "text": [
      "Enter the required length for rectangle: 12\n",
      "Enter the required breadth for rectangle: 10\n",
      "The area of rectangle with length 12 units and breadth 10 units is 120 sq. units.\n"
     ]
    }
   ],
   "source": [
    "class length:\n",
    "    l = 0\n",
    "    def length(self):  \n",
    "        return self.l\n",
    "class breadth:\n",
    "    b = 0\n",
    "    def breadth(self):\n",
    "        return self.b\n",
    "class rect_area(length, breadth):\n",
    "    def r_area(self):\n",
    "        print(\"The area of rectangle with length \"+str(self.l)+\" units and breadth \"+ \n",
    "              str(self.b)+\" units is \"+str(self.l * self.b)+\" sq. units.\")\n",
    "o = rect_area()\n",
    "o.l = int(input(\"Enter the required length for rectangle: \"))\n",
    "o.b = int(input(\"Enter the required breadth for rectangle: \"))\n",
    "o.r_area()"
   ]
  },
  {
   "cell_type": "code",
   "execution_count": null,
   "id": "84f7bdd5",
   "metadata": {},
   "outputs": [],
   "source": []
  }
 ],
 "metadata": {
  "kernelspec": {
   "display_name": "Python 3 (ipykernel)",
   "language": "python",
   "name": "python3"
  },
  "language_info": {
   "codemirror_mode": {
    "name": "ipython",
    "version": 3
   },
   "file_extension": ".py",
   "mimetype": "text/x-python",
   "name": "python",
   "nbconvert_exporter": "python",
   "pygments_lexer": "ipython3",
   "version": "3.9.7"
  }
 },
 "nbformat": 4,
 "nbformat_minor": 5
}
